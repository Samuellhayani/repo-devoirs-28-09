{
 "cells": [
  {
   "cell_type": "markdown",
   "id": "f0a2b0dc",
   "metadata": {},
   "source": [
    "Licence CC BY-NC-ND, Valérie Roy & Thierry Parmentelat"
   ]
  },
  {
   "cell_type": "code",
   "execution_count": null,
   "id": "78f5c585",
   "metadata": {
    "lines_to_next_cell": 2
   },
   "outputs": [],
   "source": [
    "from IPython.display import HTML\n",
    "HTML(url=\"https://raw.githubusercontent.com/ue12-p22/python-numerique/main/notebooks/_static/style.html\")"
   ]
  },
  {
   "cell_type": "markdown",
   "id": "6b1f95b0",
   "metadata": {},
   "source": [
    "# les tableaux"
   ]
  },
  {
   "cell_type": "markdown",
   "id": "a9efe4ce",
   "metadata": {},
   "source": [
    "## contenu de ce notebook (sauter si déjà acquis)\n",
    "\n",
    "<br>\n",
    "\n",
    "    \n",
    "fonctions de création de tableaux `numpy.ndarray`    \n",
    "\n",
    "| les fonctions | ce qu'elles font |\n",
    "| --------------------------- | --------------------- ---------------------- |\n",
    "| `numpy.array` | renvoie la version ndarray d'un tableau existant |\n",
    "| `numpy.empty` | renvoie un ndarray vide (éléments non initialisés) |\n",
    "| `numpy.zeros` | renvoie un ndarray rempli de *0.* (float) |\n",
    "| `numpy.ones` | renvoie un ndarray rempli de *1.* (float) |\n",
    "| `numpy.random.randint` | entiers aléatoirement générés |\n",
    "| `numpy.random.randn` | flottants aléatoirement générés |\n",
    "    \n",
    "    \n",
    "    \n",
    "<br>\n",
    "\n",
    "attributs/méthodes de manipulation de tableaux `numpy.ndarray`\n",
    "\n",
    "| attributs/méthodes             | ce qu'ils font                                 |\n",
    "|--------------------------|--------------------------------------------------|\n",
    "| `np.ndarray.shape`    | la forme du tableau (tuple)                            |\n",
    "| `np.ndarray.size`     | le nombre d'éléments du tableau                  |\n",
    "| `np.ndarray.ndim`     | le nombre de dimensions du tableau               |\n",
    "| `np.ndarray.dtype`    | le type des éléments                             |\n",
    "| `np.ndarray.itemsize` | la taille en octet d'un élément                  |\n",
    "| `np.ndarray.nbytes`   | la taille totale du tableau sous-jacent en octet |\n",
    "| `np.ndarray.astype`   | copie tableau avec autre taille des éléments |\n",
    "\n",
    "\n",
    "<br>\n",
    "\n",
    "la taille (en nombre d'octets) des éléments d'un `numpy.ndarray` existant est constante  \n",
    "une modification peut causer une conversion de la valeur\n",
    "\n",
    "<br>\n",
    "\n",
    "calculs de temps d'exécution avec `%timeit`"
   ]
  },
  {
   "cell_type": "markdown",
   "id": "49056a3e",
   "metadata": {
    "tags": [
     "framed_cell"
    ]
   },
   "source": [
    "## rappels\n",
    "\n",
    "<br>\n",
    "<br>\n",
    "    \n",
    "Python ne possède pas, de base, de type adapté aux tableaux multi-dimensionnels \n",
    "\n",
    "<br>\n",
    "    \n",
    "ceux-ci sont proposés par la librairie numérique `numpy`  \n",
    "qu'il faut installer séparément (`pip install numpy` dans le terminal)"
   ]
  },
  {
   "cell_type": "code",
   "execution_count": 2,
   "id": "88a62dbf",
   "metadata": {},
   "outputs": [],
   "source": [
    "import numpy as np"
   ]
  },
  {
   "cell_type": "markdown",
   "id": "fd115d31",
   "metadata": {
    "tags": [
     "framed_cell"
    ]
   },
   "source": [
    "## tableaux  multi-dimensionnels `numpy`\n",
    "<br>\n",
    "    \n",
    "créés par la méthode `numpy.array`  \n",
    "(ici plus précisément `np.array` comme l'identifiant utilisé lors de l'import est `np` mais on reste genéral)\n",
    "    \n",
    "<br>\n",
    "    \n",
    "leur type est `numpy.ndarray` (tableau en dimension n)\n",
    " \n",
    "<br>\n",
    "    \n",
    "attributs et méthodes que nous allons utiliser souvent\n",
    "    \n",
    "| nom                      | comportement                                     |\n",
    "|--------------------------|--------------------------------------------------|\n",
    "| `numpy.ndarray.shape`    | la forme du tableau (tuple)                      |\n",
    "| `numpy.ndarray.dtype`    | le type des éléments                             |\n",
    "| `numpy.ndarray.astype`   | crée tableau avec nouveau type d'éléments        | \n",
    "\n",
    "<br>\n",
    "    \n",
    "ou moins souvent\n",
    "    \n",
    "| nom                      | comportement                                     |\n",
    "|--------------------------|--------------------------------------------------|\n",
    "| `numpy.ndarray.ndim`     | le nombre de dimensions du tableau               |\n",
    "| `numpy.ndarray.itemsize` | la taille en octet d'un élément                  |\n",
    "| `numpy.ndarray.nbytes`   | la taille totale du tableau sous-jacent en octets |"
   ]
  },
  {
   "cell_type": "markdown",
   "id": "d9aa71e1",
   "metadata": {},
   "source": [
    "***"
   ]
  },
  {
   "cell_type": "markdown",
   "id": "4c17b0d5",
   "metadata": {
    "tags": [
     "framed_cell"
    ]
   },
   "source": [
    "### création d'un tableau multi-dimensionnel\n",
    "<br>\n",
    "<br>\n",
    "\n",
    "reprenons notre matrice en Python brut\n",
    "\n",
    "```python\n",
    "matrice = [\n",
    "    [1, 2, 3, 4, 5], \n",
    "    [6, 7, 8, 9, 10],\n",
    "    [11, 12, 13, 14, 15],\n",
    "    [16, 17, 18, 19, 20]\n",
    "]\n",
    "```\n",
    "    \n",
    "<br>\n",
    "    \n",
    "avec la fonction `numpy.array` nous créons un tableau multi-dimensionnel initialisé avec notre matrice\n",
    "\n",
    "```python    \n",
    "mat = np.array(matrice)\n",
    "```\n",
    "\n",
    "<br>\n",
    "    \n",
    "nous n'avons indiqué\n",
    "\n",
    "* ni la forme du tableau\n",
    "* ni le type des éléments\n",
    "\n",
    "`numpy.array` a tout déduit\n",
    " \n",
    "    \n",
    "<br>\n",
    "    \n",
    "**type** de `mat` est `numpy.ndarray` i.e. *n-dimensional-array*\n",
    "\n",
    "```python\n",
    "type(mat)\n",
    "    -> <class 'numpy.ndarray'>\n",
    "```"
   ]
  },
  {
   "cell_type": "markdown",
   "id": "422d7257",
   "metadata": {},
   "source": [
    "le code"
   ]
  },
  {
   "cell_type": "code",
   "execution_count": null,
   "id": "31558e6b",
   "metadata": {},
   "outputs": [],
   "source": [
    "matrice = [\n",
    "    [1, 2, 3, 4, 5], \n",
    "    [6, 7, 8, 9, 10],\n",
    "    [11, 12, 13, 14, 15],\n",
    "    [16, 17, 18, 19, 20]\n",
    "]\n",
    "\n",
    "mat = np.array(matrice)\n",
    "\n",
    "print(mat)\n",
    "\n",
    "print(type(mat))"
   ]
  },
  {
   "cell_type": "markdown",
   "id": "0d50b1c8",
   "metadata": {
    "tags": [
     "framed_cell"
    ]
   },
   "source": [
    "###  type et taille mémoire des éléments du tableau\n",
    "<br>\n",
    "<br>\n",
    "    \n",
    "```python\n",
    "matrice = [\n",
    "    [1, 2, 3], \n",
    "    [4, 5, 6]\n",
    "]    \n",
    "mat = np.array(matrice)\n",
    "```\n",
    "<br>\n",
    "    \n",
    "l'attribut `numpy.ndarray.dtype` donne le **type des éléments** du tableau\n",
    "\n",
    "```python\n",
    "    \n",
    "mat.dtype\n",
    "-> dtype('int64') \n",
    "```\n",
    "ou bien\n",
    "```python\n",
    "    \n",
    "mat.dtype\n",
    "-> dtype('int32') \n",
    "```\n",
    "<br>\n",
    "    \n",
    "tous les éléments sont du même type et de la même taille  \n",
    "(ici des entiers signés codés sur 64 bits = 8 octets ou bien 32 bits = 4 octets)\n",
    "\n",
    "<br>\n",
    "    \n",
    "l'attribut `numpy.ndarray.itemsize` donne le nombre d'octets d'un élément du tableau\n",
    "\n",
    "```python\n",
    "mat.itemsize\n",
    "-> 8 # chaque élément fait 8 octets dans le cas int64\n",
    "```\n",
    "    \n",
    "<br>\n",
    "    \n",
    "l'attribut `numpy.ndarray.nbytes`  donne le nombre d'octets total du tableau\n",
    "\n",
    "```python\n",
    "mat.nbytes\n",
    "-> 48 # 6 éléments de 8 octets chacun dans le cas int64\n",
    "```"
   ]
  },
  {
   "cell_type": "code",
   "execution_count": null,
   "id": "bc864be8",
   "metadata": {},
   "outputs": [],
   "source": [
    "# le code\n",
    "matrice = [\n",
    "    [1, 2, 3], \n",
    "    [4, 5, 6]\n",
    "]    \n",
    "mat = np.array(matrice)\n",
    "mat.dtype, mat.itemsize, mat.nbytes"
   ]
  },
  {
   "cell_type": "markdown",
   "id": "b279f058",
   "metadata": {
    "tags": [
     "framed_cell"
    ]
   },
   "source": [
    "### taille, forme, dimension du tableau    \n",
    "<br>\n",
    "<br>\n",
    "    \n",
    "```python\n",
    "matrice = [\n",
    "    [1, 2, 3], \n",
    "    [4, 5, 6]\n",
    "]    \n",
    "mat = np.array(matrice)\n",
    "```\n",
    "    \n",
    "  \n",
    "<br>    \n",
    "    \n",
    "    \n",
    "l'attribut `numpy.ndarray.shape` donne la forme d'un tableau sous la forme d'un tuple\n",
    "    \n",
    "```python\n",
    "mat.shape\n",
    "-> (2, 3) # 2 lignes et 3 colonnes\n",
    "```    \n",
    "  \n",
    "    \n",
    "    \n",
    "<br>\n",
    "    \n",
    "l'attribut `numpy.ndarray.size` donne le nombre d'éléments du tableau\n",
    "    \n",
    "```python\n",
    "   \n",
    "mat.size # mat.shape[0] * mat.shape[1]\n",
    "-> 6\n",
    "```    \n",
    "    \n",
    "<br>\n",
    "    \n",
    "l'attribut `numpy.ndarray.ndim` donne la dimension d'un tableau\n",
    "   \n",
    "```python\n",
    "mat.ndim # len(mat.shape)\n",
    "-> 2\n",
    "```"
   ]
  },
  {
   "cell_type": "code",
   "execution_count": null,
   "id": "c5b7920b",
   "metadata": {},
   "outputs": [],
   "source": [
    "# le code\n",
    "print(mat.shape)\n",
    "print(mat.size, mat.shape[0] * mat.shape[1])\n",
    "print(mat.ndim, len(mat.shape))"
   ]
  },
  {
   "cell_type": "markdown",
   "id": "dd629c2d",
   "metadata": {
    "tags": [
     "framed_cell"
    ]
   },
   "source": [
    "### création d'un tableau avec le type des éléments    \n",
    "<br>\n",
    "<br>\n",
    "    \n",
    "on peut laisser `numpy` décider du type des éléments    \n",
    "\n",
    "```python\n",
    "matrice = [\n",
    "    [-128, -78, -32], \n",
    "    [17, 5, 127]\n",
    "]\n",
    "mat = np.array(matrice)\n",
    "mat.dtype\n",
    "-> int64\n",
    "```\n",
    "    \n",
    "<br>\n",
    "    \n",
    "calculons l'élément minimum et l'élément maximum d'un tableau\n",
    "    \n",
    "```python\n",
    "mat.min(), mat.max()\n",
    "-> -128 127\n",
    "```\n",
    "\n",
    "<br>\n",
    "    \n",
    "Combien faut-il d'octets, au minimum, pour stocker des entiers entre $-128$ et $127$ ?  \n",
    "un seul octet\n",
    "\n",
    "<br>\n",
    "    \n",
    "Quel type d'entier dois-je utiliser ?\n",
    "    \n",
    "<br>\n",
    "    \n",
    "**rappel avec n bits**, on représente $2^n$ valeurs entières\n",
    "- soit des entiers signés $\\in [ -2^{n-1}$, $2^{n-1}-1]$\n",
    "- soit des entiers non signés $\\in [0, 2^n-1]$\n",
    "    \n",
    "    \n",
    "<br>\n",
    "    \n",
    "    \n",
    "on peut donc utiliser le type  \n",
    "\n",
    "* `numpy.int8` pour le type des entiers signés sur 8 bits  \n",
    "  $256$ valeurs de $-128$ à $127$\n",
    "\n",
    "* le type correspondant sera `numpy.int8` (entier signé sur 8 bits)\n",
    "    \n",
    "<br>\n",
    "    \n",
    "\n",
    "avec le paramètre `dtype` on indique, à la fonction `numpy.array`, le type des éléments\n",
    "    \n",
    "```python\n",
    "matrice = [\n",
    "    [-128, -78, -32], \n",
    "    [17, 5, 127]\n",
    "]\n",
    "mat = np.array(matrice, dtype=np.int8) \n",
    "mat.dtype\n",
    "-> int8\n",
    "```   \n",
    "\n",
    "<br>\n",
    "    \n",
    "**trompons-nous** et demandons un type `numpy.uint8`  \n",
    "naturellement, `numpy` vous obéit aveuglement ...  \n",
    "si il rencontre un problème avec une valeur: il modifie la valeur, pas le type que vous imposez ! \n",
    "    \n",
    "```python\n",
    "mat = np.array(matrice, dtype=np.uint8) \n",
    "mat\n",
    "-> [[128, 178, 224], # ouh là là ! 128 = 256 - 128\n",
    "                     # (complément à 2)\n",
    "    [ 17,   5, 127]], dtype=uint8\n",
    "```"
   ]
  },
  {
   "cell_type": "code",
   "execution_count": null,
   "id": "7f9e0821",
   "metadata": {},
   "outputs": [],
   "source": [
    "# le code\n",
    "matrice = [\n",
    "    [-128, -78, -32], \n",
    "    [17, 5, 127]  \n",
    "]\n",
    "mat = np.array(matrice)\n",
    "\n",
    "print(mat.min(), mat.max())\n",
    "print(mat.dtype)"
   ]
  },
  {
   "cell_type": "code",
   "execution_count": null,
   "id": "a7685120",
   "metadata": {
    "scrolled": true
   },
   "outputs": [],
   "source": [
    "# le code avec type\n",
    "matrice = [\n",
    "    [-128, -78, -32], \n",
    "    [17, 5, 127]\n",
    "]\n",
    "mat = np.array(matrice, dtype=np.int8) \n",
    "mat"
   ]
  },
  {
   "cell_type": "code",
   "execution_count": null,
   "id": "082f1a46",
   "metadata": {},
   "outputs": [],
   "source": [
    "# le code avec erreur\n",
    "matrice = [\n",
    "    [-128, -78, -32], \n",
    "    [17, 5, 127]\n",
    "]\n",
    "mat = np.array(matrice, dtype=np.uint8)\n",
    "mat"
   ]
  },
  {
   "cell_type": "markdown",
   "id": "3c453f03",
   "metadata": {},
   "source": [
    "**exercice**\n",
    "\n",
    "1. créez un tableau pour stocker la matrice ci-dessous avec le plus petit type entier non signé\n",
    "\n",
    "```python\n",
    "l = [[  0,   8,  34,   8],\n",
    "     [255,  61, 128, 254]]\n",
    "```\n",
    "\n",
    "2. puis, essayez avec le type `numpy.int8`"
   ]
  },
  {
   "cell_type": "code",
   "execution_count": 8,
   "id": "03c38123",
   "metadata": {},
   "outputs": [
    {
     "data": {
      "text/plain": [
       "array([[   0,    8,   34,    8],\n",
       "       [  -1,   61, -128,   -2]], dtype=int8)"
      ]
     },
     "execution_count": 8,
     "metadata": {},
     "output_type": "execute_result"
    }
   ],
   "source": [
    "matrice = [[  0,   8,  34,   8],\n",
    "     [255,  61, 128, 254]]\n",
    "mat = np.array(matrice, dtype=np.int8)\n",
    "mat"
   ]
  },
  {
   "cell_type": "markdown",
   "id": "6a660915",
   "metadata": {
    "tags": [
     "framed_cell"
    ]
   },
   "source": [
    "### modifier le type des éléments d'un tableau existant    \n",
    "<br>\n",
    "<br>\n",
    "     \n",
    "la méthode `numpy.ndarray.astype` crée un nouveau tableau de la même forme que le tableau initial   \n",
    "avec la taille indiquée pour les éléments\n",
    "    \n",
    "```python\n",
    "l = [[  0,   8,  34,   8],\n",
    "     [255,  61, 128, 254]]\n",
    "\n",
    "mat = np.array(l)\n",
    "mat1 = mat.astype(np.int8)\n",
    "mat1\n",
    "```\n",
    "    \n",
    "<br>\n",
    "    \n",
    "`mat` et `mat1` ne partagent **pas** le tableau d'éléments sous-jacent  \n",
    "`mat1` est **une copie indépendante** avec la nouvelle taille  \n",
    "l'ancien `mat` existe toujours avec sa taille initiale"
   ]
  },
  {
   "cell_type": "code",
   "execution_count": null,
   "id": "abf75410",
   "metadata": {},
   "outputs": [],
   "source": [
    "# le code\n",
    "l = [[  0,   8,  34,   8],\n",
    "     [255,  61, 128, 254]]\n",
    "\n",
    "mat = np.array(l)\n",
    "print(    mat     )\n",
    "mat1 = mat.astype(np.int8)\n",
    "print(    mat1    )\n",
    "print(    mat     )"
   ]
  },
  {
   "cell_type": "markdown",
   "id": "3d59eccb",
   "metadata": {
    "tags": [
     "framed_cell"
    ]
   },
   "source": [
    "## `numpy` calcule à taille constante    \n",
    "<br>\n",
    "<br>\n",
    "\n",
    "créons un tableau avec des éléments de type entier (type par défaut)\n",
    "    \n",
    "```python\n",
    "l = [-1, 2, 3]\n",
    "mat = np.array(l)\n",
    "mat\n",
    "    -> [-1, 2, 3]\n",
    "```\n",
    "<br>\n",
    "    \n",
    "multiplions les éléments du tableau `mat` par $100$\n",
    "    \n",
    "<br>\n",
    "    \n",
    "     \n",
    "```python\n",
    "mat*100\n",
    "-> [-100,  200,   300]  \n",
    "```\n",
    "\n",
    "<br>\n",
    "\n",
    "créons maintenant un tableau avec des éléments de type *entier signé sur 8 bits* (1 octet)\n",
    "    \n",
    "```python\n",
    "l = [-1, 2, 3]\n",
    "mat = np.array(l, np.int8)\n",
    "mat\n",
    "    -> [-1, 2, 3]\n",
    "```\n",
    "<br>\n",
    "    \n",
    "multiplions les éléments du tableau `mat` par $100$\n",
    "    \n",
    "<br>\n",
    "    \n",
    "     \n",
    "```python\n",
    "mat*100\n",
    "-> [-100,  -56,   44]  \n",
    "```\n",
    "    \n",
    "**et non pas** `[-100,  200,  300]`\n",
    "    \n",
    "<br>\n",
    "    \n",
    "le problème ?\n",
    "\n",
    "* `numpy` ne modifie jamais la taille (le type) des éléments d'un tableau existant\n",
    "* il calcule donc à taille-mémoire constante \n",
    "* et convertit au-besoin les valeurs\n",
    "\n",
    "    \n",
    "<br>\n",
    "\n",
    "pour éviter tout problème restez sur le type inféré par `numpy`  \n",
    "vos entiers seront le plus souvent des `numpy.int64` ou des `numpy.int32`"
   ]
  },
  {
   "cell_type": "code",
   "execution_count": null,
   "id": "83ad2154",
   "metadata": {},
   "outputs": [],
   "source": [
    "# le code\n",
    "l = [-1, 2, 3]\n",
    "mat = np.array(l)\n",
    "print(    mat    )\n",
    "print(    mat*100    )\n",
    "print(    mat.dtype    )"
   ]
  },
  {
   "cell_type": "code",
   "execution_count": null,
   "id": "9e99d2fd",
   "metadata": {},
   "outputs": [],
   "source": [
    "# le code\n",
    "l = [-1, 2, 3]\n",
    "mat = np.array(l, np.int8)\n",
    "print(    mat    )\n",
    "print(    mat*100    )"
   ]
  },
  {
   "cell_type": "markdown",
   "id": "633f0884",
   "metadata": {
    "tags": [
     "framed_cell"
    ]
   },
   "source": [
    "## autres constructeurs de  `numpy.ndarray`\n",
    "<br>\n",
    "<br>\n",
    "    \n",
    "\n",
    "| les méthodes | ce qu'elles font |\n",
    "| --------------------------- | --------------------- ---------------------- |\n",
    "| `numpy.zeros` | renvoie un ndarray rempli de *0.* (float) |\n",
    "| `numpy.ones` | renvoie un ndarray rempli de *1.* (float) |\n",
    "| `numpy.empty` | renvoie un ndarray vide i.e. sans initialiser ses éléments |\n",
    "    | | |\n",
    "| `numpy.arange` | tableau de valeurs régulièrement espacées|\n",
    "| `numpy.linspace` |  tableau de valeurs régulièrement espacées|\n",
    "    | | |\n",
    "| `numpy.random.randint` | entiers aléatoirement générés |\n",
    "| `numpy.random.randn` | flottants aléatoirement générés |"
   ]
  },
  {
   "cell_type": "markdown",
   "id": "598627e0",
   "metadata": {},
   "source": [
    "***"
   ]
  },
  {
   "cell_type": "markdown",
   "id": "cafb1968",
   "metadata": {
    "tags": [
     "framed_cell"
    ]
   },
   "source": [
    "### tableau de zéros `numpy.zeros`\n",
    "<br>\n",
    "<br>\n",
    "    \n",
    "voud devez indiquer à la fonction `numpy.zeros` la forme du tableau\n",
    "    \n",
    "    \n",
    "```python\n",
    "zorro = np.zeros(shape=(4, 5))\n",
    "zorro\n",
    "-> [[0., 0., 0., 0., 0.],\n",
    "    [0., 0., 0., 0., 0.],\n",
    "    [0., 0., 0., 0., 0.],\n",
    "    [0., 0., 0., 0., 0.]]\n",
    "```\n",
    "    \n",
    "<br>\n",
    "    \n",
    "on peut donner d'autres paramètres, comme le type des éléments...\n",
    "    \n",
    "```python\n",
    "zorro1 = np.zeros(shape=(4, 5), dtype=np.uint64)\n",
    "zorro1\n",
    "-> [[0, 0, 0, 0, 0],\n",
    "    [0, 0, 0, 0, 0],\n",
    "    [0, 0, 0, 0, 0],\n",
    "    [0, 0, 0, 0, 0]\n",
    "```"
   ]
  },
  {
   "cell_type": "code",
   "execution_count": null,
   "id": "6b55f9f4",
   "metadata": {},
   "outputs": [],
   "source": [
    "# le code\n",
    "zorro = np.zeros(shape=(4, 5))\n",
    "zorro"
   ]
  },
  {
   "cell_type": "code",
   "execution_count": null,
   "id": "87f5f7ce",
   "metadata": {},
   "outputs": [],
   "source": [
    "# le second code\n",
    "zorro1 = np.zeros(shape=(4, 5), dtype=np.uint64)\n",
    "zorro1"
   ]
  },
  {
   "cell_type": "markdown",
   "id": "e0d63c70",
   "metadata": {
    "tags": [
     "level_basic"
    ]
   },
   "source": [
    "**exercice**\n",
    "\n",
    "\n",
    "* affichez le type des éléments de `zorro`\n",
    "\n",
    "\n",
    "* créez le tableau multi-dimensionnel des entiers positifs 8 bits suivant\n",
    "\n",
    "```python\n",
    "array([[[0, 0, 0],\n",
    "        [0, 0, 0],\n",
    "        [0, 0, 0],\n",
    "        [0, 0, 0],\n",
    "        [0, 0, 0]],\n",
    "\n",
    "       [[0, 0, 0],\n",
    "        [0, 0, 0],\n",
    "        [0, 0, 0],\n",
    "        [0, 0, 0],\n",
    "        [0, 0, 0]]])\n",
    "```"
   ]
  },
  {
   "cell_type": "code",
   "execution_count": null,
   "id": "3948d869",
   "metadata": {},
   "outputs": [],
   "source": [
    "# votre code ici"
   ]
  },
  {
   "cell_type": "markdown",
   "id": "f467e62d",
   "metadata": {
    "tags": [
     "framed_cell"
    ]
   },
   "source": [
    "### tableau non-initialisé `numpy.empty`\n",
    "<br>\n",
    "    \n",
    "la fonction `numpy.empty`\n",
    "    \n",
    "<br>\n",
    "    \n",
    "**utilité ?**\n",
    "\n",
    "* ne pas perdre de temps à initialiser inutilement un tableau\n",
    "* quand vous n'allez jamais utiliser la valeur initiale des éléments"
   ]
  },
  {
   "cell_type": "markdown",
   "id": "32a57c25",
   "metadata": {},
   "source": [
    "**exercice**\n",
    "\n",
    "1. créez un tableau de forme `(3, 5)` de valeurs non-initialisées  \n",
    "de type entiers signés sur 8 bits\n",
    "1. affichez-le\n",
    "1. que contient-il ?"
   ]
  },
  {
   "cell_type": "code",
   "execution_count": 18,
   "id": "f1f8d2c9",
   "metadata": {},
   "outputs": [
    {
     "data": {
      "text/plain": [
       "array([[6.23042070e-307, 4.67296746e-307, 1.69121096e-306,\n",
       "        1.22383391e-307, 8.90092016e-307],\n",
       "       [1.78020440e-306, 1.42417221e-306, 1.37961641e-306,\n",
       "        1.86921143e-306, 1.11261434e-306],\n",
       "       [6.23054972e-307, 9.34609790e-307, 1.20161526e-306,\n",
       "        2.22507386e-306, 2.54639495e-313]])"
      ]
     },
     "execution_count": 18,
     "metadata": {},
     "output_type": "execute_result"
    }
   ],
   "source": [
    "tableau = np.empty([3,5])\n",
    "tableau"
   ]
  },
  {
   "cell_type": "markdown",
   "id": "f96b9025",
   "metadata": {
    "tags": [
     "framed_cell"
    ]
   },
   "source": [
    "### tableau de valeurs régulièrement espacées\n",
    "<br>\n",
    "<br>\n",
    "\n",
    "`numpy.arange(from, to, step)`\n",
    "\n",
    "* nombres équidistants de `step` sur l'intervalle `[from, to[`  \n",
    "* n'utilisez pas un incrément (step) non entier\n",
    "    \n",
    "    \n",
    "    \n",
    "<br>\n",
    "    \n",
    "    \n",
    "`numpy.linspace(from-included, to-included, n)`\n",
    "\n",
    "* `n` réels régulièrement espacés dans un intervalle\n",
    "* la valeur supérieure de l'intervalle **est** incluse"
   ]
  },
  {
   "cell_type": "markdown",
   "id": "036ef4ce",
   "metadata": {},
   "source": [
    "exemple un sinus"
   ]
  },
  {
   "cell_type": "code",
   "execution_count": null,
   "id": "98cabef7",
   "metadata": {},
   "outputs": [],
   "source": [
    "from matplotlib import pyplot as plt\n",
    "\n",
    "X = np.linspace(-np.pi, np.pi, 30)\n",
    "Y = np.sin(X)\n",
    "plt.plot(X, Y)"
   ]
  },
  {
   "cell_type": "markdown",
   "id": "e4d9ffda",
   "metadata": {},
   "source": [
    "**astuce**\n",
    "\n",
    "pour éviter de voir apparaitre la ligne avec le vilain `[<matplotlib.lines.Line2D at 0x...>]`, on ajoute habituellement un `;` à la fin de la dernière ligne de la cellule"
   ]
  },
  {
   "cell_type": "code",
   "execution_count": null,
   "id": "5fd85b16",
   "metadata": {},
   "outputs": [],
   "source": [
    "# pour éviter l'affichage superflu, ajoutez un ;\n",
    "plt.plot(X, Y);"
   ]
  },
  {
   "cell_type": "markdown",
   "id": "9849357e",
   "metadata": {},
   "source": [
    "## tableaux de valeurs aléatoires"
   ]
  },
  {
   "cell_type": "markdown",
   "id": "9dc07b43",
   "metadata": {
    "tags": [
     "framed_cell"
    ]
   },
   "source": [
    "### générateur de valeurs aléatoires entières\n",
    "\n",
    "<br>\n",
    "<br>\n",
    "    \n",
    "`numpy.random.randint` permet de tirer un nombre entier aléatoirement entre deux bornes  \n",
    "(la seconde est exclue)\n",
    "```python\n",
    "borne_inf = 10\n",
    "borne_sup = 20\n",
    "np.random.randint(borne_inf, borne_sup)\n",
    "```\n",
    "\n",
    "<br>    \n",
    " \n",
    "passez lui le paramètre `size` (et non pas `shape`)\n",
    "pour générer un tableau-multi-dimensionnel d'une forme donnée \n",
    "\n",
    "```python\n",
    "np.random.randint(10, 20, size=(2, 3, 5))\n",
    "-> \n",
    "array([[[11, 18, 14, 19, 16],\n",
    "        [17, 14, 15, 11, 11],\n",
    "        [13, 17, 11, 10, 13]],\n",
    "\n",
    "       [[12, 14, 10, 13, 17],\n",
    "        [11, 17, 18, 19, 18],\n",
    "        [19, 15, 10, 17, 18]]])\n",
    "```"
   ]
  },
  {
   "cell_type": "code",
   "execution_count": null,
   "id": "385667c5",
   "metadata": {},
   "outputs": [],
   "source": [
    "# le code\n",
    "borne_inf = 10\n",
    "borne_sup = 20\n",
    "np.random.randint(borne_inf, borne_sup)"
   ]
  },
  {
   "cell_type": "code",
   "execution_count": null,
   "id": "cfeb16c7",
   "metadata": {},
   "outputs": [],
   "source": [
    "# le code\n",
    "np.random.randint(10, 20, size=(2, 3, 5))"
   ]
  },
  {
   "cell_type": "markdown",
   "id": "9eaeb087",
   "metadata": {
    "tags": [
     "framed_cell"
    ]
   },
   "source": [
    "### générateur de valeurs aléatoires réelles\n",
    "\n",
    "<br>\n",
    "    \n",
    "`numpy.random.randn` renvoie un échantillon  \n",
    "de la loi normale centrée-réduite (moyenne 0, écart-type 1)\n",
    "\n",
    "```python\n",
    "np.random.randn()\n",
    "-> 0.19176811586596798\n",
    "```\n",
    "    \n",
    "<br>\n",
    "    \n",
    "`numpy.random.randn(d0, ..., dn)` génére un tableau de `shape` $(d_1, ..., d_n)$\n",
    "\n",
    "```python\n",
    "np.random.randn(2, 3, 1)\n",
    "->\n",
    "array([[[-0.91543618],\n",
    "        [-2.12493972],\n",
    "        [ 0.93155056]],\n",
    "\n",
    "       [[-0.17198904],\n",
    "        [-0.69164236],\n",
    "        [-0.43321452]]])\n",
    "```\n",
    "\n",
    "<br>\n",
    "\n",
    "la librairie `numpy.random`\n",
    "\n",
    "* contient plus de fonctionnalités pour le calcul scientifiques que `random.random`  \n",
    "* sait manipuler efficacement des tableaux `numpy.ndarray`"
   ]
  },
  {
   "cell_type": "code",
   "execution_count": null,
   "id": "4770d9ae",
   "metadata": {},
   "outputs": [],
   "source": [
    "# le code\n",
    "np.random.rand()"
   ]
  },
  {
   "cell_type": "code",
   "execution_count": null,
   "id": "898a25c5",
   "metadata": {},
   "outputs": [],
   "source": [
    "# le code\n",
    "np.random.randn(2, 3, 1)"
   ]
  },
  {
   "cell_type": "markdown",
   "id": "d0061744",
   "metadata": {},
   "source": [
    "**exercice** génération aléatoire et affichage *couleur*\n",
    "\n",
    "\n",
    "avec la fonction `numpy.random.randint` \n",
    "dont l'aide est obtenu en tapant\n",
    "```python\n",
    "np.random.randint?\n",
    "```\n",
    "\n",
    "1. construisez une image de $10 \\times 10$ pixels en format RBG  \n",
    "i.e. chaque pixel est composé de 3 valeurs entières entre 0 et 255 inclus\n",
    "\n",
    "\n",
    "2. affichez l'image avec `plt.imshow`"
   ]
  },
  {
   "cell_type": "code",
   "execution_count": 34,
   "id": "7ef2610d",
   "metadata": {},
   "outputs": [
    {
     "data": {
      "text/plain": [
       "<matplotlib.image.AxesImage at 0x1e9fe9a60d0>"
      ]
     },
     "execution_count": 34,
     "metadata": {},
     "output_type": "execute_result"
    },
    {
     "data": {
      "image/png": "[encoded data removed]",
      "text/plain": [
       "<Figure size 640x480 with 1 Axes>"
      ]
     },
     "metadata": {},
     "output_type": "display_data"
    }
   ],
   "source": [
    "import matplotlib.pyplot as plt\n",
    "Im = np.random.randint(0,256,size=(10,10))\n",
    "plt.imshow(Im)"
   ]
  },
  {
   "cell_type": "code",
   "execution_count": null,
   "id": "15be6a52",
   "metadata": {},
   "outputs": [],
   "source": []
  },
  {
   "cell_type": "markdown",
   "id": "6b720dc8",
   "metadata": {
    "tags": [
     "level_intermediate",
     "framed_cell"
    ]
   },
   "source": [
    "## comparaison des temps de création tableaux - avancé\n",
    "<br>\n",
    "<br>\n",
    "\n",
    "`%timeit` permet d'évaluer le temps d'exécution d'une ligne de code  \n",
    "`%%timeit` permet d'évaluer le temps d'exécution d'une cellule de code  \n",
    "\n",
    "<br>\n",
    "    \n",
    "```python\n",
    "%timeit 1 + 1\n",
    "-> 8.16 ns ± 0.124 ns per loop (mean ± std. dev. of 7 runs, 100000000 loops each)\n",
    "```\n",
    "la moyenne et l'écart-type des temps d'exécution de l'instruction `1 + 1` ont été calculés  \n",
    "(cela a été fait 7 fois et le meilleur résultat a été pris, voir le help)\n",
    "    \n",
    "<br>\n",
    "\n",
    "* avec `-n` vous pouvez baisser le nombre de calculs, ce sera donc moins précis\n",
    "    \n",
    "```python\n",
    "%timeit -n 10000 1 + 1\n",
    "-> 12.5 ns ± 3.4 ns per loop (mean ± std. dev. of 7 runs, 10000 loops each)\n",
    "```    \n",
    "    \n",
    "<br>\n",
    "\n",
    "`ns` = nano-seconde\n",
    "    \n",
    "<br>\n",
    "    \n",
    "calcul du temps d'exécution d'une cellule\n",
    "\n",
    "```python\n",
    "%%timeit\n",
    "a = 1\n",
    "a + 1\n",
    "```"
   ]
  },
  {
   "cell_type": "code",
   "execution_count": 35,
   "id": "01665b73",
   "metadata": {
    "tags": [
     "level_intermediate"
    ]
   },
   "outputs": [
    {
     "name": "stdout",
     "output_type": "stream",
     "text": [
      "24.7 ns ± 1.01 ns per loop (mean ± std. dev. of 7 runs, 10,000,000 loops each)\n"
     ]
    }
   ],
   "source": [
    "# le code\n",
    "%timeit 1 + 1"
   ]
  },
  {
   "cell_type": "code",
   "execution_count": null,
   "id": "66b36cd6",
   "metadata": {},
   "outputs": [],
   "source": [
    "# le code\n",
    "%timeit -n 10000 1 + 1"
   ]
  },
  {
   "cell_type": "code",
   "execution_count": 36,
   "id": "63e1ff18",
   "metadata": {
    "tags": [
     "level_intermediate"
    ]
   },
   "outputs": [
    {
     "name": "stdout",
     "output_type": "stream",
     "text": [
      "115 ns ± 5.55 ns per loop (mean ± std. dev. of 7 runs, 10,000,000 loops each)\n"
     ]
    }
   ],
   "source": [
    "%%timeit\n",
    "a = 1\n",
    "a + 1"
   ]
  },
  {
   "cell_type": "markdown",
   "id": "b8c0e692",
   "metadata": {
    "tags": [
     "level_intermediate"
    ]
   },
   "source": [
    "**exercice** \n",
    "\n",
    "comparez les temps d'exécution de\n",
    "\n",
    "* la création d'un `numpy.ndarray` à partir d'une liste Python comportant 10.000 floats initialisés à 0  \n",
    "ne pas mettre la création de la liste Python dans le calcul du temps\n",
    "<br>\n",
    "\n",
    "* la création d'un `numpy.ndarray` de 10.000 éléments initialisés à 0\n",
    "<br>\n",
    "\n",
    "* la création d'un `numpy.ndarray` de 10.000 éléments non-initialisés\n",
    "<br>\n",
    "\n",
    "* lequel est le plus rapide ?"
   ]
  },
  {
   "cell_type": "code",
   "execution_count": null,
   "id": "e278009c",
   "metadata": {
    "tags": [
     "level_intermediate"
    ]
   },
   "outputs": [],
   "source": [
    "# votre code ici"
   ]
  }
 ],
 "metadata": {
  "jupytext": {
   "cell_metadata_filter": "all,-hidden,-heading_collapsed,-run_control,-trusted",
   "encoding": "# -*- coding: utf-8 -*-",
   "notebook_metadata_filter": "all, -jupytext.text_representation.jupytext_version, -jupytext.text_representation.format_version, -language_info.version, -language_info.codemirror_mode.version, -language_info.codemirror_mode, -language_info.file_extension, -language_info.mimetype, -toc"
  },
  "kernelspec": {
   "display_name": "Python 3 (ipykernel)",
   "language": "python",
   "name": "python3"
  },
  "language_info": {
   "codemirror_mode": {
    "name": "ipython",
    "version": 3
   },
   "file_extension": ".py",
   "mimetype": "text/x-python",
   "name": "python",
   "nbconvert_exporter": "python",
   "pygments_lexer": "ipython3",
   "version": "3.9.12"
  },
  "nbhosting": {
   "title": "les tableaux"
  }
 },
 "nbformat": 4,
 "nbformat_minor": 5
}
